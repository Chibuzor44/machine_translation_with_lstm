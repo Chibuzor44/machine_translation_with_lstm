{
 "cells": [
  {
   "cell_type": "markdown",
   "metadata": {},
   "source": [
    "# English - French Translation\n",
    "\n",
    "\n",
    "## Data Extracation\n",
    "In this notebook I will focus on the the extraction of of the data. This data is text data comprised of multiple documents files in english as well the same documents in french. These documents are each in a compressed .gz format. We will be unwrapping the data and combining all our data."
   ]
  },
  {
   "cell_type": "code",
   "execution_count": 1,
   "metadata": {},
   "outputs": [],
   "source": [
    "import os\n",
    "import numpy as np\n",
    "import pandas as pd"
   ]
  },
  {
   "cell_type": "code",
   "execution_count": 2,
   "metadata": {},
   "outputs": [],
   "source": [
    "pd.set_option('display.max_rows', 500)"
   ]
  },
  {
   "cell_type": "code",
   "execution_count": 4,
   "metadata": {},
   "outputs": [],
   "source": [
    "def extract_data(dir_path, english_file_name='english', other_lang_file_name='french'):\n",
    "    en_dict, fr_dict = {}, {}\n",
    "    en_file_no, fr_file_no = [],[]\n",
    "    # Get list of files in directory\n",
    "    files = [path+f for f in os.listdir(path)] \n",
    "    \n",
    "    # Separate file names by language in two different dictionaries\n",
    "    for file in files:\n",
    "        splits = file.split('.')\n",
    "        if splits[-2] == 'e':\n",
    "            en_dict[splits[-3]] = file\n",
    "        elif splits[-2] == 'f':\n",
    "            fr_dict[splits[-3]] = file\n",
    "    \n",
    "    en_sorted = sorted(en_dict.items(), key=lambda x: x[0])\n",
    "    fr_sorted = sorted(fr_dict.items(), key=lambda x: x[0])\n",
    "    \n",
    "    # Extract english text\n",
    "    with open(f'./Data/{english_file_name}.gz', 'ab') as english:  # append in binary mode\n",
    "        for en_file in en_sorted:\n",
    "            en_file_no.append(en_file[0]) \n",
    "            with open(en_file[1], 'rb') as en_temp:        # open in binary mode also\n",
    "                english.write(en_temp.read())\n",
    "    \n",
    "    # Extract other language text\n",
    "    with open(f'./Data/{other_lang_file_name}.gz', 'ab') as other:  # append in binary mode\n",
    "        for fr_file in fr_sorted:\n",
    "            fr_file_no.append(fr_file[0])\n",
    "            with open(fr_file[1], 'rb') as other_temp:        # open in binary mode also\n",
    "                other.write(other_temp.read())\n",
    "    \n",
    "    # Check if the same languages have same files\n",
    "    assert (np.array(en_file_no) == np.array(fr_file_no)).all(), 'The two languages do not have the same number of files. Check file names.'\n",
    "    "
   ]
  },
  {
   "cell_type": "code",
   "execution_count": 3,
   "metadata": {},
   "outputs": [],
   "source": [
    "train_path = '../../../Downloads/hansard.36 3/Release-2001.1a/sentence-pairs/senate/debates/development/training/'\n",
    "\n",
    "# Extract training files\n",
    "extract_data(train_path, english_file_name='train_english', other_lang_file_name='train_french')"
   ]
  },
  {
   "cell_type": "code",
   "execution_count": 37,
   "metadata": {},
   "outputs": [],
   "source": [
    "# Read english and french file\n",
    "train_english = pd.read_csv('./Data/train_english.txt', sep=r'\\s{2,}', engine='python', header=None)\n",
    "train_french = pd.read_csv('./Data/train_french.txt', sep=r'\\s{2,}', engine='python', header=None)"
   ]
  },
  {
   "cell_type": "code",
   "execution_count": 38,
   "metadata": {},
   "outputs": [],
   "source": [
    "train_english.columns = ['english_text']\n",
    "train_french.columns = ['french_text']\n",
    "train_data = english.merge(french, left_index=True, right_index=True)"
   ]
  },
  {
   "cell_type": "code",
   "execution_count": 22,
   "metadata": {
    "scrolled": false
   },
   "outputs": [],
   "source": [
    "test_path1 = '../../../Downloads/hansard.36/Release-2001.1a/sentence-pairs/senate/debates/development/testing/1/'\n",
    "test_path2 = '../../../Downloads/hansard.36/Release-2001.1a/sentence-pairs/senate/debates/development/testing/2/'\n",
    "\n",
    "# Extract test files\n",
    "extract_data(test_path1, english_file_name='test_english1', other_lang_file_name='test_french1')\n",
    "extract_data(test_path2, english_file_name='test_english2', other_lang_file_name='test_french2')"
   ]
  },
  {
   "cell_type": "code",
   "execution_count": 23,
   "metadata": {},
   "outputs": [],
   "source": [
    "# Read english and french test file\n",
    "test_english1 = pd.read_csv('./Data/test_english1.txt', sep=r'\\s{2,}', engine='python', header=None)\n",
    "test_french1 = pd.read_csv('./Data/test_french1.txt', sep=r'\\s{2,}', engine='python', header=None)\n",
    "\n",
    "test_english2 = pd.read_csv('./Data/test_english2.txt', sep=r'\\s{2,}', engine='python', header=None)\n",
    "test_french2 = pd.read_csv('./Data/test_french2.txt', sep=r'\\s{2,}', engine='python', header=None)"
   ]
  },
  {
   "cell_type": "code",
   "execution_count": 28,
   "metadata": {},
   "outputs": [],
   "source": [
    "test_english1.columns = ['english_text']\n",
    "test_french1.columns = ['french_text']\n",
    "\n",
    "test_english2.columns = ['english_text']\n",
    "test_french2.columns = ['french_text']\n",
    "\n",
    "test1 = test_english1.merge(test_french1, left_index=True, right_index=True)\n",
    "test2 = test_english2.merge(test_french2, left_index=True, right_index=True)\n",
    "\n",
    "test_data = pd.concat([test1, test2], axis=0).reset_index(drop=True)"
   ]
  },
  {
   "cell_type": "code",
   "execution_count": 39,
   "metadata": {},
   "outputs": [
    {
     "data": {
      "text/html": [
       "<div>\n",
       "<style scoped>\n",
       "    .dataframe tbody tr th:only-of-type {\n",
       "        vertical-align: middle;\n",
       "    }\n",
       "\n",
       "    .dataframe tbody tr th {\n",
       "        vertical-align: top;\n",
       "    }\n",
       "\n",
       "    .dataframe thead th {\n",
       "        text-align: right;\n",
       "    }\n",
       "</style>\n",
       "<table border=\"1\" class=\"dataframe\">\n",
       "  <thead>\n",
       "    <tr style=\"text-align: right;\">\n",
       "      <th></th>\n",
       "      <th>english_text</th>\n",
       "      <th>french_text</th>\n",
       "    </tr>\n",
       "  </thead>\n",
       "  <tbody>\n",
       "    <tr>\n",
       "      <td>182130</td>\n",
       "      <td>That at 3:30 p.m. tomorrow, if the business of...</td>\n",
       "      <td>Que, ‡ 15 h 30 demain, si le SÈnat n'a pas ter...</td>\n",
       "    </tr>\n",
       "    <tr>\n",
       "      <td>182131</td>\n",
       "      <td>That should a division be deferred until 5:30 ...</td>\n",
       "      <td>Que, si un vote est diffÈrÈ ‡ 17 h 30 demain, ...</td>\n",
       "    </tr>\n",
       "    <tr>\n",
       "      <td>182132</td>\n",
       "      <td>That all matters on the Orders of the Day and ...</td>\n",
       "      <td>Que tous les points figurant ‡ l'Ordre du jour...</td>\n",
       "    </tr>\n",
       "    <tr>\n",
       "      <td>182133</td>\n",
       "      <td>Motion agreed to.</td>\n",
       "      <td>(La motion est adoptÈe.)</td>\n",
       "    </tr>\n",
       "    <tr>\n",
       "      <td>182134</td>\n",
       "      <td>The Senate adjourned until Wednesday, April 5,...</td>\n",
       "      <td>(Le SÈnat s'ajourne au mercredi 5 avril 2000, ...</td>\n",
       "    </tr>\n",
       "  </tbody>\n",
       "</table>\n",
       "</div>"
      ],
      "text/plain": [
       "                                             english_text  \\\n",
       "182130  That at 3:30 p.m. tomorrow, if the business of...   \n",
       "182131  That should a division be deferred until 5:30 ...   \n",
       "182132  That all matters on the Orders of the Day and ...   \n",
       "182133                                  Motion agreed to.   \n",
       "182134  The Senate adjourned until Wednesday, April 5,...   \n",
       "\n",
       "                                              french_text  \n",
       "182130  Que, ‡ 15 h 30 demain, si le SÈnat n'a pas ter...  \n",
       "182131  Que, si un vote est diffÈrÈ ‡ 17 h 30 demain, ...  \n",
       "182132  Que tous les points figurant ‡ l'Ordre du jour...  \n",
       "182133                           (La motion est adoptÈe.)  \n",
       "182134  (Le SÈnat s'ajourne au mercredi 5 avril 2000, ...  "
      ]
     },
     "execution_count": 39,
     "metadata": {},
     "output_type": "execute_result"
    }
   ],
   "source": [
    "train_data.tail()"
   ]
  },
  {
   "cell_type": "code",
   "execution_count": 30,
   "metadata": {},
   "outputs": [
    {
     "data": {
      "text/html": [
       "<div>\n",
       "<style scoped>\n",
       "    .dataframe tbody tr th:only-of-type {\n",
       "        vertical-align: middle;\n",
       "    }\n",
       "\n",
       "    .dataframe tbody tr th {\n",
       "        vertical-align: top;\n",
       "    }\n",
       "\n",
       "    .dataframe thead th {\n",
       "        text-align: right;\n",
       "    }\n",
       "</style>\n",
       "<table border=\"1\" class=\"dataframe\">\n",
       "  <thead>\n",
       "    <tr style=\"text-align: right;\">\n",
       "      <th></th>\n",
       "      <th>english_text</th>\n",
       "      <th>french_text</th>\n",
       "    </tr>\n",
       "  </thead>\n",
       "  <tbody>\n",
       "    <tr>\n",
       "      <td>364265</td>\n",
       "      <td>That at 3:30 p.m. tomorrow, if the business of...</td>\n",
       "      <td>Que, ‡ 15 h 30 demain, si le SÈnat n'a pas ter...</td>\n",
       "    </tr>\n",
       "    <tr>\n",
       "      <td>364266</td>\n",
       "      <td>That should a division be deferred until 5:30 ...</td>\n",
       "      <td>Que, si un vote est diffÈrÈ ‡ 17 h 30 demain, ...</td>\n",
       "    </tr>\n",
       "    <tr>\n",
       "      <td>364267</td>\n",
       "      <td>That all matters on the Orders of the Day and ...</td>\n",
       "      <td>Que tous les points figurant ‡ l'Ordre du jour...</td>\n",
       "    </tr>\n",
       "    <tr>\n",
       "      <td>364268</td>\n",
       "      <td>Motion agreed to.</td>\n",
       "      <td>(La motion est adoptÈe.)</td>\n",
       "    </tr>\n",
       "    <tr>\n",
       "      <td>364269</td>\n",
       "      <td>The Senate adjourned until Wednesday, April 5,...</td>\n",
       "      <td>(Le SÈnat s'ajourne au mercredi 5 avril 2000, ...</td>\n",
       "    </tr>\n",
       "  </tbody>\n",
       "</table>\n",
       "</div>"
      ],
      "text/plain": [
       "                                             english_text  \\\n",
       "364265  That at 3:30 p.m. tomorrow, if the business of...   \n",
       "364266  That should a division be deferred until 5:30 ...   \n",
       "364267  That all matters on the Orders of the Day and ...   \n",
       "364268                                  Motion agreed to.   \n",
       "364269  The Senate adjourned until Wednesday, April 5,...   \n",
       "\n",
       "                                              french_text  \n",
       "364265  Que, ‡ 15 h 30 demain, si le SÈnat n'a pas ter...  \n",
       "364266  Que, si un vote est diffÈrÈ ‡ 17 h 30 demain, ...  \n",
       "364267  Que tous les points figurant ‡ l'Ordre du jour...  \n",
       "364268                           (La motion est adoptÈe.)  \n",
       "364269  (Le SÈnat s'ajourne au mercredi 5 avril 2000, ...  "
      ]
     },
     "execution_count": 30,
     "metadata": {},
     "output_type": "execute_result"
    }
   ],
   "source": [
    "test_data.tail()"
   ]
  },
  {
   "cell_type": "markdown",
   "metadata": {},
   "source": [
    "## Data Cleaning\n",
    "The French translation has some text formating problems that prevents certain character to be improperly convert from binary during extraction and reading of the data. Characters such as ‡, È, represent preposition (à) and è. » and … representing upper case è and é. These chcaracter when represented incorrectely can completly change the meaning of a phrase or sentence. I will replcace them with the right characters. There maybe some other special characters that that I might be missing but these changes should help as a starting point."
   ]
  },
  {
   "cell_type": "code",
   "execution_count": 40,
   "metadata": {},
   "outputs": [],
   "source": [
    "def replace_char(sent):\n",
    "    # Lower case the string and replace char.\n",
    "    sent = sent.lower()\n",
    "    sent = sent.replace('»', 'è')\n",
    "    sent = sent.replace('…', 'é')   \n",
    "    sent = sent.replace('‡', 'à')  \n",
    "    sent = sent.replace('¿', '')\n",
    "    return sent.strip()"
   ]
  },
  {
   "cell_type": "code",
   "execution_count": 42,
   "metadata": {},
   "outputs": [],
   "source": [
    "# Apply replace functions to french text\n",
    "train_data.french_text = train_data.french_text.apply(replace_char)\n",
    "test_data.french_text = test_data.french_text.apply(replace_char)"
   ]
  },
  {
   "cell_type": "code",
   "execution_count": 45,
   "metadata": {},
   "outputs": [],
   "source": [
    "train_data.to_csv('./Data/prepped/train_data.csv', index=False)\n",
    "test_data.to_csv('./Data/prepped/test_data.csv', index=False)"
   ]
  },
  {
   "cell_type": "code",
   "execution_count": null,
   "metadata": {},
   "outputs": [],
   "source": []
  }
 ],
 "metadata": {
  "kernelspec": {
   "display_name": "Python 3",
   "language": "python",
   "name": "python3"
  },
  "language_info": {
   "codemirror_mode": {
    "name": "ipython",
    "version": 3
   },
   "file_extension": ".py",
   "mimetype": "text/x-python",
   "name": "python",
   "nbconvert_exporter": "python",
   "pygments_lexer": "ipython3",
   "version": "3.7.4"
  }
 },
 "nbformat": 4,
 "nbformat_minor": 2
}
